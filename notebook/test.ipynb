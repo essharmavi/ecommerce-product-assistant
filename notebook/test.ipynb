{
 "cells": [
  {
   "cell_type": "code",
   "execution_count": 2,
   "id": "858ae1ce",
   "metadata": {},
   "outputs": [
    {
     "name": "stdout",
     "output_type": "stream",
     "text": [
      "Works\n"
     ]
    }
   ],
   "source": [
    "print(\"Works\")"
   ]
  },
  {
   "cell_type": "code",
   "execution_count": 10,
   "id": "9d96bf27",
   "metadata": {},
   "outputs": [
    {
     "data": {
      "text/plain": [
       "['/Users/vishalsharma/.local/share/uv/python/cpython-3.11.5-macos-aarch64-none/lib/python311.zip',\n",
       " '/Users/vishalsharma/.local/share/uv/python/cpython-3.11.5-macos-aarch64-none/lib/python3.11',\n",
       " '/Users/vishalsharma/.local/share/uv/python/cpython-3.11.5-macos-aarch64-none/lib/python3.11/lib-dynload',\n",
       " '',\n",
       " '/Users/vishalsharma/Downloads/ecomm-prod-assistant/venv/lib/python3.11/site-packages',\n",
       " '/Users/vishalsharma/Downloads/ecomm-prod-assistant',\n",
       " '/Users/vishalsharma/Downloads/ecomm-prod-assistant/etl',\n",
       " '/Users/vishalsharma/Downloads/ecomm-prod-assistant/config',\n",
       " '/Users/vishalsharma/Downloads/ecomm-prod-assistant/retriever',\n",
       " '/Users/vishalsharma/Downloads/ecomm-prod-assistant/static',\n",
       " '/Users/vishalsharma/Downloads/ecomm-prod-assistant/utils',\n",
       " '/Users/vishalsharma/Downloads/ecomm-prod-assistant/templates']"
      ]
     },
     "execution_count": 10,
     "metadata": {},
     "output_type": "execute_result"
    }
   ],
   "source": [
    "import sys\n",
    "sys.path"
   ]
  },
  {
   "cell_type": "code",
   "execution_count": 9,
   "id": "0ada9881",
   "metadata": {},
   "outputs": [],
   "source": [
    "sys.path.append('/Users/vishalsharma/Downloads/ecomm-prod-assistant/templates')"
   ]
  },
  {
   "cell_type": "code",
   "execution_count": 3,
   "id": "133bd96a",
   "metadata": {},
   "outputs": [
    {
     "data": {
      "text/plain": [
       "4"
      ]
     },
     "execution_count": 3,
     "metadata": {},
     "output_type": "execute_result"
    }
   ],
   "source": [
    "a = [1,2,3,4]\n",
    "\n",
    "next(i for i in a if i==4)"
   ]
  },
  {
   "cell_type": "code",
   "execution_count": null,
   "id": "c11d784f",
   "metadata": {},
   "outputs": [],
   "source": []
  }
 ],
 "metadata": {
  "kernelspec": {
   "display_name": "venv",
   "language": "python",
   "name": "python3"
  },
  "language_info": {
   "codemirror_mode": {
    "name": "ipython",
    "version": 3
   },
   "file_extension": ".py",
   "mimetype": "text/x-python",
   "name": "python",
   "nbconvert_exporter": "python",
   "pygments_lexer": "ipython3",
   "version": "3.11.5"
  }
 },
 "nbformat": 4,
 "nbformat_minor": 5
}
